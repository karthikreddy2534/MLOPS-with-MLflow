{
 "cells": [
  {
   "cell_type": "code",
   "execution_count": 1,
   "id": "55272460",
   "metadata": {},
   "outputs": [],
   "source": [
    "import os"
   ]
  },
  {
   "cell_type": "code",
   "execution_count": 2,
   "id": "5b372fa7",
   "metadata": {},
   "outputs": [
    {
     "data": {
      "text/plain": [
       "'/home/tkarthikreddy/ML/MLOPS-with-MLflow/research'"
      ]
     },
     "execution_count": 2,
     "metadata": {},
     "output_type": "execute_result"
    }
   ],
   "source": [
    "pwd\n"
   ]
  },
  {
   "cell_type": "code",
   "execution_count": null,
   "id": "4bf0123f",
   "metadata": {},
   "outputs": [
    {
     "ename": "NameError",
     "evalue": "name 'pwd' is not defined",
     "output_type": "error",
     "traceback": [
      "\u001b[31m---------------------------------------------------------------------------\u001b[39m",
      "\u001b[31mNameError\u001b[39m                                 Traceback (most recent call last)",
      "\u001b[36mCell\u001b[39m\u001b[36m \u001b[39m\u001b[32mIn[4]\u001b[39m\u001b[32m, line 2\u001b[39m\n\u001b[32m      1\u001b[39m os.chdir(\u001b[33m\"\u001b[39m\u001b[33m../\u001b[39m\u001b[33m\"\u001b[39m)\n\u001b[32m----> \u001b[39m\u001b[32m2\u001b[39m \u001b[43mpwd\u001b[49m\n",
      "\u001b[31mNameError\u001b[39m: name 'pwd' is not defined"
     ]
    }
   ],
   "source": [
    "os.chdir(\"../\")\n"
   ]
  },
  {
   "cell_type": "code",
   "execution_count": 7,
   "id": "e84d8f05",
   "metadata": {},
   "outputs": [],
   "source": [
    "os.chdir(\"/home/tkarthikreddy/ML/MLOPS-with-MLflow\")\n"
   ]
  },
  {
   "cell_type": "code",
   "execution_count": 8,
   "id": "d68ac215",
   "metadata": {},
   "outputs": [
    {
     "data": {
      "text/plain": [
       "'/home/tkarthikreddy/ML/MLOPS-with-MLflow'"
      ]
     },
     "execution_count": 8,
     "metadata": {},
     "output_type": "execute_result"
    }
   ],
   "source": [
    "pwd"
   ]
  }
 ],
 "metadata": {
  "kernelspec": {
   "display_name": "Ml-test1",
   "language": "python",
   "name": "python3"
  },
  "language_info": {
   "codemirror_mode": {
    "name": "ipython",
    "version": 3
   },
   "file_extension": ".py",
   "mimetype": "text/x-python",
   "name": "python",
   "nbconvert_exporter": "python",
   "pygments_lexer": "ipython3",
   "version": "3.11.11"
  }
 },
 "nbformat": 4,
 "nbformat_minor": 5
}
